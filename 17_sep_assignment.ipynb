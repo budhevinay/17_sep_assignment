{
 "cells": [
  {
   "cell_type": "code",
   "execution_count": null,
   "id": "27b18e7d-f704-457c-83b0-ec24a74cdb60",
   "metadata": {},
   "outputs": [],
   "source": [
    "#1.\tWrite a Python program to print numbers from 1 to 10 using a for loop.\n",
    "for i  in range(0,11):\n",
    "    print(i)"
   ]
  },
  {
   "cell_type": "code",
   "execution_count": null,
   "id": "389c38d6-cec4-4afb-843a-49892fde18b4",
   "metadata": {},
   "outputs": [],
   "source": [
    "#2.\tExplain the difference between a for loop and a while loop in Python.\n",
    "'''for_loop mainly used to iterate through iterable objects and while loop is \n",
    "executed as long as some condition is True."
   ]
  },
  {
   "cell_type": "code",
   "execution_count": null,
   "id": "86d22243-c0c6-48af-bd65-25e553391bc7",
   "metadata": {},
   "outputs": [],
   "source": [
    "#3.\tWrite a Python program to calculate the sum of all numbers from 1 to 100 using a for loop.\n",
    "def sum_of_num(n):\n",
    "    x=0\n",
    "    for i in range(0,n):\n",
    "        x=i+x\n",
    "    print(x)\n",
    "sum_of_num(101)"
   ]
  },
  {
   "cell_type": "code",
   "execution_count": null,
   "id": "c21efcef-5e18-42a2-8e8e-2ef9013b83bc",
   "metadata": {},
   "outputs": [],
   "source": [
    "#4.\tHow do you iterate through a list using a for loop in Python?\n",
    "x=[1,2,3,4,5]\n",
    "for every_item in x:\n",
    "    #for everyitem in x represents loop goes through each item in x until all items exhausted\n",
    "    print(every_item)"
   ]
  },
  {
   "cell_type": "code",
   "execution_count": null,
   "id": "639f9feb-f983-46fc-b553-5bc717a8b3e3",
   "metadata": {},
   "outputs": [],
   "source": [
    "#5.\tWrite a Python program to find the product of all elements in a list using a for loop.\n",
    "def multiply(x):\n",
    "    y=1\n",
    "    for i in x:\n",
    "        y=i*y\n",
    "    print(y)\n",
    "multiply(x=[1,2,3,4,5,6,7,8])"
   ]
  },
  {
   "cell_type": "code",
   "execution_count": null,
   "id": "5deb54e7-b3d4-4755-89d8-b4e7d1ee838e",
   "metadata": {},
   "outputs": [],
   "source": [
    "#6.\tCreate a Python program that prints all even numbers from 1 to 20 using a for loop.\n",
    "def even(n):\n",
    "    for i in  range(0,n+1):\n",
    "        if i%2==0:\n",
    "            print(i)\n",
    "    \n",
    "even(20)\n",
    "    "
   ]
  },
  {
   "cell_type": "code",
   "execution_count": null,
   "id": "4838f1a6-6302-4940-87d1-bbe79bafec2e",
   "metadata": {},
   "outputs": [],
   "source": [
    "#7.\tWrite a Python program that calculates the factorial of a number using a for loop.\n",
    "def factorial(n):\n",
    "    y=1\n",
    "    for i in range(1,n+1):\n",
    "        y=i*y\n",
    "        print(y)\n",
    "factorial(4)"
   ]
  },
  {
   "cell_type": "code",
   "execution_count": null,
   "id": "5cbd6462-03d1-4bf7-8c03-2f975ae1b819",
   "metadata": {},
   "outputs": [],
   "source": [
    "#8.\tHow can you iterate through the characters of a string using a for loop in Python\n",
    "string='iterate through the characters'\n",
    "for each_item in string:\n",
    "    #for everyitem in x represents loop goes through each item in x until all items exhausted\n",
    "    print(each_item)\n",
    "\n"
   ]
  },
  {
   "cell_type": "code",
   "execution_count": null,
   "id": "9f132a11-ab97-4113-be91-400b7a2aba05",
   "metadata": {},
   "outputs": [],
   "source": [
    "#9.\tWrite a Python program to find the largest number in a list using a for loop.\n",
    "def largest_num(n):\n",
    "    y=1\n",
    "    for i in n:\n",
    "        if i>y:\n",
    "            y=i\n",
    "    print(y)\n",
    "largest_num(n=[11,1,2,3,4,5,6])\n",
    "        "
   ]
  },
  {
   "cell_type": "code",
   "execution_count": null,
   "id": "674b7885-4e29-421a-a3fe-c80da7fbb099",
   "metadata": {},
   "outputs": [],
   "source": [
    "#10.Create a Python program that prints the Fibonacci sequence up to a specified limit using a for loop.\n",
    "def fibonacci(n):\n",
    "    x,y=0,1\n",
    "    for i in range(0,n+1):\n",
    "            z=x+y\n",
    "            if z>n+1:\n",
    "                break\n",
    "            x,y=y,z\n",
    "            print(z)\n",
    "            \n",
    "fibonacci(5)  \n"
   ]
  },
  {
   "cell_type": "code",
   "execution_count": null,
   "id": "1d3b2c11-f301-4300-a27d-0a1b7717b316",
   "metadata": {},
   "outputs": [],
   "source": [
    "#11.\tWrite a Python program to count the number of vowels in a given string using a for loop.\n",
    "def count_vowel(n):\n",
    "    vowels='aeiouAEIOU'\n",
    "    count=0\n",
    "    for i in n:\n",
    "        if i in vowels:\n",
    "            count+=1\n",
    "    print(count)\n",
    "count_vowel(n='Write a Python program to count the number of vowels in a given string using a for loop')\n",
    "            \n",
    "    "
   ]
  },
  {
   "cell_type": "code",
   "execution_count": null,
   "id": "968198f4-456f-44f2-942e-bb6d1351dcdc",
   "metadata": {},
   "outputs": [],
   "source": [
    "#12.Create a Python program that generates a multiplication table for a given number using a for loop.\n",
    "def multiplication_table(n):\n",
    "    for i in range(1,11):\n",
    "        z=i*n\n",
    "        print('{1}*{0}={2}'.format(i,n,z))\n",
    "multiplication_table(3)\n"
   ]
  },
  {
   "cell_type": "code",
   "execution_count": null,
   "id": "55fb4249-41b3-4ebe-85d7-7544d777fb67",
   "metadata": {},
   "outputs": [],
   "source": [
    "#13.Write a Python program to reverse a list using a for loop.\n",
    "def reverse_list(n):\n",
    "    reverse_list=[]\n",
    "    for i in range(len(n),0,-1):\n",
    "        reverse_list.append(i)\n",
    "    print(reverse_list)\n",
    "        \n",
    "reverse_list(n=[1,2,3,4,5,6,7]) \n"
   ]
  },
  {
   "cell_type": "code",
   "execution_count": null,
   "id": "4a21e28c-51b4-4721-9d07-35c5d25a0678",
   "metadata": {},
   "outputs": [],
   "source": [
    "#14.Write a Python program to find the common elements between two lists using a for loop\n",
    "\n",
    "def common_element(x,y):  \n",
    "    z=[]\n",
    "    for i in x:\n",
    "        if i in y:\n",
    "            z.append(i)\n",
    "print(z)\n",
    "common_element(x=[1,2,3,4,5],y=[6,7,1,2,5])"
   ]
  },
  {
   "cell_type": "code",
   "execution_count": null,
   "id": "e49b2570-383b-46a1-af6e-614e6203744c",
   "metadata": {},
   "outputs": [],
   "source": [
    "#15.Explain how to use a for loop to iterate through the keys and values of a dictionary in Python.\n",
    "def diction(x):\n",
    "    for i in x.items():\n",
    "        print(i)\n",
    "diction(x={'apple':50,'banana':30})\n"
   ]
  },
  {
   "cell_type": "code",
   "execution_count": 13,
   "id": "c1aeff19-01f9-4f69-97c2-8c287a6ee05d",
   "metadata": {},
   "outputs": [],
   "source": [
    "#16.Write a Python program to find the GCD (Greatest Common Divisor) of two numbers using a for loop.\n",
    "\n"
   ]
  },
  {
   "cell_type": "code",
   "execution_count": 12,
   "id": "bf62f44a-b705-40ee-b3bb-08367fb21dfd",
   "metadata": {},
   "outputs": [
    {
     "data": {
      "text/plain": [
       "22"
      ]
     },
     "execution_count": 12,
     "metadata": {},
     "output_type": "execute_result"
    }
   ],
   "source": [
    "\n",
    "\n"
   ]
  },
  {
   "cell_type": "code",
   "execution_count": null,
   "id": "a357182a-0932-4035-8665-836e24699b26",
   "metadata": {},
   "outputs": [],
   "source": [
    "#17.Create a Python program that checks if a string is a palindrome using a for loop.\n",
    "def palindrome(x):\n",
    "    reverse=''\n",
    "    for i in x:\n",
    "        reverse=i+reverse\n",
    "    if reverse==x:\n",
    "        print('this is palindrome')\n",
    "    else:\n",
    "        print('this is not a palindrome')\n",
    "        \n",
    "palindrome('vinay')"
   ]
  },
  {
   "cell_type": "code",
   "execution_count": null,
   "id": "1712aeb1-9ed6-4d8d-91de-feb0ab07a95c",
   "metadata": {},
   "outputs": [],
   "source": [
    "#18.Write a Python program to remove duplicates from a list using a for loop.\n",
    "def duplicates(x,y):\n",
    "    for i in x:\n",
    "        if i not in y:\n",
    "            y.append(i)\n",
    "    print(y)\n",
    "    \n",
    "duplicates([1,2,3,4,4,3,2,1],[])\n",
    "    "
   ]
  },
  {
   "cell_type": "code",
   "execution_count": null,
   "id": "c546fa9a-ff1a-4c09-b4c1-c822169cbfae",
   "metadata": {},
   "outputs": [],
   "source": [
    "#19.Create a Python program that counts the number of words in a sentence using a for loop\n",
    "def count_words(x):\n",
    "    y=x.split()\n",
    "    count=0\n",
    "    for words in y:\n",
    "      \n",
    "        count+=1 \n",
    "    print(count)\n",
    "count_words('k ak aljf airlh')\n",
    "    "
   ]
  },
  {
   "cell_type": "code",
   "execution_count": null,
   "id": "18f57b66-f437-4960-98a4-04b0275d8b45",
   "metadata": {},
   "outputs": [],
   "source": [
    "#20.Write a Python program to find the sum of all odd numbers from 1 to 50 using a for loop.\n",
    "def sum_of_odd_numbers(n):\n",
    "    add=0\n",
    "    for i in range(1,n+1):\n",
    "        if i%2!=0:\n",
    "            add+=i\n",
    "    print(add)\n",
    "sum_of_odd_numbers(50)\n",
    "            "
   ]
  },
  {
   "cell_type": "code",
   "execution_count": 9,
   "id": "12fa00e6-903e-432a-9d09-98299c2ade39",
   "metadata": {},
   "outputs": [
    {
     "name": "stdin",
     "output_type": "stream",
     "text": [
      "Enter a year:  234\n"
     ]
    },
    {
     "name": "stdout",
     "output_type": "stream",
     "text": [
      "234 is not a leap year.\n"
     ]
    }
   ],
   "source": [
    "#21.Write a Python program that checks if a given year is a leap year using a for loop.\n",
    "# Function to check if a year is a leap year\n",
    "def is_leap_year(year):\n",
    "    if (year % 4 == 0 and year % 100 != 0) or (year % 400 == 0):\n",
    "        return True\n",
    "    else:\n",
    "        return False\n",
    "\n",
    "\n",
    "year = int(input(\"Enter a year: \"))\n",
    "\n",
    "\n",
    "if is_leap_year(year):\n",
    "    print(f\"{year} is a leap year.\")\n",
    "else:\n",
    "    print(f\"{year} is not a leap year.\")\n",
    "\n",
    "    "
   ]
  },
  {
   "cell_type": "code",
   "execution_count": null,
   "id": "5792f811-486f-46ea-b9a1-b538d7780303",
   "metadata": {},
   "outputs": [],
   "source": [
    "#23.Write a Python program to find the LCM (Least Common Multiple) of two numbers using a for loop."
   ]
  },
  {
   "cell_type": "code",
   "execution_count": null,
   "id": "4431e58c-dfaf-4de2-b3f6-04e7e3a19eb0",
   "metadata": {},
   "outputs": [],
   "source": [
    "#if else\n",
    "\n",
    "#1.\tWrite a Python program to check if a number is positive, negative, or zero using an if-else statement.\n",
    "def check_num(a):\n",
    "    if a>=0:\n",
    "        print('positive number')\n",
    "    else:\n",
    "        print('negative number')\n",
    "check_num(0)"
   ]
  },
  {
   "cell_type": "code",
   "execution_count": null,
   "id": "b4b94ded-0eda-4d86-a202-69a3fb9c0ecf",
   "metadata": {},
   "outputs": [],
   "source": [
    "#2.\tCreate a Python program that checks if a given number is even or odd using an if-else statement.\n",
    "def even_or_odd(a):\n",
    "    if a%2==0:\n",
    "        print('given number is even')\n",
    "    else:\n",
    "        print('given number is odd')\n",
    "even_or_odd(34)"
   ]
  },
  {
   "cell_type": "code",
   "execution_count": null,
   "id": "67a09bdf-7855-42bc-9e21-b8d947968778",
   "metadata": {},
   "outputs": [],
   "source": [
    "#3.\tHow can you use nested if-else statements in Python, and provide an example?\n",
    "def nested(num):\n",
    "    if num>300:\n",
    "        print('num is above 300')\n",
    "        if num>250:\n",
    "            print('num is bewteen 250 and 300')\n",
    "            if num>200:\n",
    "                  print('num is bewteen 150 and 200')\n",
    "            else:\n",
    "                 print('num is below 200')\n",
    "                  \n",
    "        else:\n",
    "            print('num is bewteen 250 and 200')\n",
    "        \n",
    "    else:\n",
    "        print('num is below 300')\n",
    "nested(301)     "
   ]
  },
  {
   "cell_type": "code",
   "execution_count": null,
   "id": "d0dd738e-9a22-4c64-bfec-dbd13ddd798e",
   "metadata": {},
   "outputs": [],
   "source": []
  },
  {
   "cell_type": "code",
   "execution_count": null,
   "id": "ec7add9a-17dd-4925-842e-d561bb78c437",
   "metadata": {},
   "outputs": [],
   "source": [
    "#4.\tWrite a Python program to determine the largest of three numbers using if-else\n",
    "def largest_num(a,b,c):\n",
    "    if a>b and a>c:\n",
    "        print(a,'is largest number')\n",
    "    elif b>a and b>c:\n",
    "        print(b,'is largest number')\n",
    "    else:\n",
    "        print(c,' is largest number')\n",
    "largest_num(1,2,3)"
   ]
  },
  {
   "cell_type": "code",
   "execution_count": null,
   "id": "20b3ccf5-99ed-4b8c-af05-6451ef9c4786",
   "metadata": {},
   "outputs": [],
   "source": [
    "#5.\tWrite a Python program that calculates the absolute value of a number using if-else.\n",
    "def absolute_valve(n):\n",
    "    result=0\n",
    "    if n<0:\n",
    "        return -n\n",
    "    else:\n",
    "        return n\n",
    "\n",
    "absolute_valve(-4)"
   ]
  },
  {
   "cell_type": "code",
   "execution_count": null,
   "id": "acca2889-a11a-4e51-b832-72b4270d7175",
   "metadata": {},
   "outputs": [],
   "source": [
    "#6.\tCreate a Python program that checks if a given character is a vowel or consonant using if-else.\n",
    "def vowel(x):\n",
    "    \n",
    "    x.lower()\n",
    "    if x=='a' or 'e' or 'i' or 'o' or 'u':\n",
    "        print(f\"{x} is vowel\")\n",
    "    else:\n",
    "        print(f\"{x} is consonant\")\n",
    "vowel('a')"
   ]
  },
  {
   "cell_type": "code",
   "execution_count": null,
   "id": "de32f608-5402-4b88-bde6-ba010610e6f3",
   "metadata": {},
   "outputs": [],
   "source": [
    "#7.\tWrite a Python program to determine if a user is eligible to vote based on their age using if-else.\n",
    "def vote_for_age(age):\n",
    "    if age>18:\n",
    "        print('user is eligible to vote')\n",
    "    else:\n",
    "        print('use is not eligible to vote')\n",
    "vote_for_age(23)"
   ]
  },
  {
   "cell_type": "code",
   "execution_count": null,
   "id": "38cc0372-2057-436c-a07d-67b5d6c12e46",
   "metadata": {},
   "outputs": [],
   "source": [
    "#8.\tCreate a Python program that calculates the discount amount based on the purchase amount using if-else.\n",
    "def discount_amount(amount):\n",
    "    if amount>"
   ]
  },
  {
   "cell_type": "code",
   "execution_count": null,
   "id": "f32e79b4-79e5-43c0-9180-757cb27742d6",
   "metadata": {},
   "outputs": [],
   "source": [
    "#9.\tWrite a Python program to check if a number is within a specified range using if-else.\n",
    "def specified_range(num):\n",
    "    lower_limit=50\n",
    "    upper_limit=100\n",
    "    if num>=lower_limit and num<=upper_limit:\n",
    "        print('number is within specified range')\n",
    "    else:\n",
    "        print('number is not within specified range')\n",
    "specified_range(56)\n",
    "    "
   ]
  },
  {
   "cell_type": "code",
   "execution_count": null,
   "id": "730752cc-a99f-46ce-80be-2e44198c22a0",
   "metadata": {},
   "outputs": [],
   "source": [
    "#10.Create a Python program that determines the grade of a student based on their score using if-else.\n",
    "def grade_of_student():\n",
    "    score=int(input('enter student marks'))\n",
    "    if score>=91 and score<100:\n",
    "        print(\"grade is A+\")\n",
    "    elif score>=81 and score<90:\n",
    "        print('grade is A')\n",
    "    elif score>=71 and score<80:\n",
    "        print('grade is B')\n",
    "    elif score>=61 and score<70:\n",
    "        print('grade is C')\n",
    "    elif score>=51 and score<41:\n",
    "        print('grade is D')\n",
    "    else:\n",
    "        print('grade is E')\n",
    "grade_of_student()"
   ]
  },
  {
   "cell_type": "code",
   "execution_count": null,
   "id": "592016c0-7165-4317-8a0e-30d50fb68d38",
   "metadata": {},
   "outputs": [],
   "source": [
    "#11.Write a Python program to check if a string is empty or not using if-else.\n",
    "x=input('enter a string')\n",
    "if len(x)>=1:\n",
    "    print('string is not empty')\n",
    "else:\n",
    "    print('string is empty')\n",
    "    "
   ]
  },
  {
   "cell_type": "code",
   "execution_count": null,
   "id": "477c26fc-8db1-48cf-afaf-9c5cb5682adb",
   "metadata": {},
   "outputs": [],
   "source": [
    "#12.Create a Python program that identifies the type of a triangle (e.g., equilateral, isosceles, or scalene)\n",
    "#based on input values using if-else.\n",
    "def type_of_triangle():\n",
    "    \n",
    "    side1 = float(input(\"Enter the length of the first side: \"))\n",
    "    side2 = float(input(\"Enter the length of the second side: \"))\n",
    "    side3 = float(input(\"Enter the length of the third side: \"))\n",
    "\n",
    "    \n",
    "    if side1 + side2 > side3 and side1 + side3 > side2 and side2 + side3 > side1:\n",
    "      \n",
    "        if side1 == side2 == side3:\n",
    "            print(\"This is an equilateral triangle.\")\n",
    "        elif side1 == side2 or side1 == side3 or side2 == side3:\n",
    "            print(\"This is an isosceles triangle.\")\n",
    "        else:\n",
    "            print(\"This is a scalene triangle.\")\n",
    "    else:\n",
    "        print(\"These side lengths do not form a valid triangle.\")\n"
   ]
  },
  {
   "cell_type": "code",
   "execution_count": null,
   "id": "44191eb5-775c-4391-bdd9-42fd2679241c",
   "metadata": {},
   "outputs": [],
   "source": [
    "#13.Write a Python program to determine the day of the week based on a user-provided number using if-else.\n",
    "def day_of_week():\n",
    "    day=int(input('enter a number form 1-7:'))\n",
    "    if day==1:\n",
    "        print(f\"{day} is monday\")\n",
    "    elif day==2:\n",
    "        print(f\"{day} is Tuesday\")\n",
    "    elif day==3:\n",
    "        print(f\"{day} is Wednesday\")\n",
    "    elif day==4:\n",
    "        print(f\"{day} is Thursday\")\n",
    "    elif day==5:\n",
    "        print(f\"{day} is Friday\")\n",
    "    elif day==6:\n",
    "        print(f\"{day} is Saturday\")\n",
    "    elif day == 7:\n",
    "        print(f\"{day} is Sunday\")\n",
    "    else:\n",
    "        print(f\"{day} is not valid\")\n",
    "day_of_week()"
   ]
  },
  {
   "cell_type": "code",
   "execution_count": null,
   "id": "9c2f8485-1ee5-4a6c-a5e0-18ec08ee2843",
   "metadata": {},
   "outputs": [],
   "source": [
    "#14.Create a Python program that checks if a given year is a leap year using both if-else and a function.\n",
    "def leap_year():\n",
    "    year=int(input('enter a year'))\n",
    "    if (year%4==0 and year%100!=0 )or (year%400==0):\n",
    "        print(' leap year')\n",
    "        \n",
    "    else:\n",
    "        print('not a leap year')\n",
    "leap_year()\n",
    "    \n",
    "        \n",
    "    "
   ]
  },
  {
   "cell_type": "code",
   "execution_count": null,
   "id": "e397fbba-8245-4e3f-b084-60b81739c5b8",
   "metadata": {},
   "outputs": [],
   "source": [
    "#16.Create a Python program that determines the eligibility of a person for a senior citizen discount based\n",
    "# on age using if-else.\n",
    "def senior_citizens():\n",
    "    age=int(input())\n",
    "    if age>=60:\n",
    "        print('senior citizens')\n",
    "    else:\n",
    "        print('not a senior citizens')\n",
    "    \n",
    "senior_citizens()"
   ]
  },
  {
   "cell_type": "code",
   "execution_count": null,
   "id": "34996a32-1e9a-4e45-97b7-ed8d2f8460a9",
   "metadata": {},
   "outputs": [],
   "source": [
    "#17.Write a Python program to categorize a given character as uppercase, lowercase, or neither using if-else\n",
    "def categorize():\n",
    "    x=input('enter a character')\n",
    "    if x.islower():\n",
    "        print('given character is lower case')\n",
    "    elif x.isupper():\n",
    "        print('given character is upper case')\n",
    "    else:\n",
    "        print('given character is  not valid ')\n",
    "categorize()\n",
    "        "
   ]
  },
  {
   "cell_type": "code",
   "execution_count": 23,
   "id": "2ee8edc2-27a8-4538-a28f-afe95eb756ed",
   "metadata": {},
   "outputs": [
    {
     "name": "stdin",
     "output_type": "stream",
     "text": [
      " 22\n",
      " 22\n",
      " 22\n"
     ]
    },
    {
     "name": "stdout",
     "output_type": "stream",
     "text": [
      "The roots are complex: -0.5 + 0.8660254037844386i and -0.5 - 0.8660254037844386i\n"
     ]
    }
   ],
   "source": [
    "#18.Write a Python program to determine the roots of a quadratic equation using if-else.\n",
    "import math\n",
    "def roots():\n",
    "    a=int(input())\n",
    "    b=int(input())\n",
    "    c=int(input())\n",
    "    #discriminant\n",
    "    d=b**2-4*a*c\n",
    "    if d>0:\n",
    "        root1 = (-b + math.sqrt(d)) / (2*a)\n",
    "        root2 = (-b - math.sqrt(d)) / (2*a)\n",
    "        print(f\"The roots are real and distinct: {root1} and {root2}\")\n",
    "    elif d==0:\n",
    "        root1=-b/(2*a)\n",
    "        print(f\"There is one real root (repeated root): {root1}\")\n",
    "    else:\n",
    "        real_part = -b / (2*a)\n",
    "        imaginary_part = math.sqrt(-d) / (2*a)\n",
    "        print(f\"The roots are complex: {real_part} + {imaginary_part}i and {real_part} - {imaginary_part}i\")\n",
    "roots()   "
   ]
  },
  {
   "cell_type": "code",
   "execution_count": null,
   "id": "f9be376f-30a4-4fcb-ad7d-90d70ac64aec",
   "metadata": {},
   "outputs": [],
   "source": [
    "#19.Create a Python program that checks if a given year is a century year or not using if-else.\n",
    "def century_year():\n",
    "    year=int(input('enter a year'))\n",
    "    if  year % 100 == 0:\n",
    "        print(f\"{year} is a century year.\")\n",
    "    else:\n",
    "        print(f\"{year} is not a century year.\")"
   ]
  },
  {
   "cell_type": "code",
   "execution_count": 26,
   "id": "c6347604-9bf4-4f5e-beb5-02b3814f6d85",
   "metadata": {},
   "outputs": [
    {
     "name": "stdin",
     "output_type": "stream",
     "text": [
      "enter a number for perfect square 36\n"
     ]
    },
    {
     "name": "stdout",
     "output_type": "stream",
     "text": [
      " given squre_num is perfect square\n"
     ]
    }
   ],
   "source": [
    "#20.Write a Python program to determine if a given number is a perfect square using if-else.\n",
    "import math\n",
    "def square(x):\n",
    "    a=int(input('enter a number for perfect square'))\n",
    "    square_num=math.sqrt(a)\n",
    "    if square_num.is_integer():\n",
    "        print(' given num is perfect square')\n",
    "    else:\n",
    "        print(f\"given num is not a perfect square\")\n",
    "square(4)"
   ]
  },
  {
   "cell_type": "code",
   "execution_count": null,
   "id": "33eb0804-43ed-4d73-a3f8-eb1d21061d87",
   "metadata": {},
   "outputs": [],
   "source": [
    "#21.Explain the purpose of the \"continue\" and \"break\" statements within if-else loops.\n",
    "#The \"continue\" statement is used to skip the current iteration of a loop and move on to the next iteration.\n",
    "#The \"break\" statement is used to exit a loop."
   ]
  },
  {
   "cell_type": "code",
   "execution_count": null,
   "id": "16599f6b-d35e-45d6-8653-f237f8757178",
   "metadata": {},
   "outputs": [],
   "source": [
    "#22.Create a Python program that calculates the BMI (Body Mass Index) of a person based on their weight and \n",
    "#height using if-else.\n",
    "def BMI():\n",
    "    h=int(input('enter your height for BMI in kg'))\n",
    "    w=float(input('enter your weight for BMI in meters'))\n",
    "    bmi=w/h**2\n",
    "    if bmi < 18.5:\n",
    "        print(bmi)\n",
    "        category = \"Underweight\"\n",
    "    elif 18.5 <= bmi < 24.9:\n",
    "        category = \"Normal weight\"\n",
    "    elif 25 <= bmi < 29.9:\n",
    "        category = \"Overweight\"\n",
    "    else:\n",
    "        category = \"Obese\"\n",
    "\n",
    "    print(f\"Your BMI is {category}.\")\n",
    "BMI()"
   ]
  },
  {
   "cell_type": "code",
   "execution_count": 4,
   "id": "7ab27028-04c3-47d9-ac12-102729e12b8b",
   "metadata": {},
   "outputs": [
    {
     "name": "stdout",
     "output_type": "stream",
     "text": [
      "[2, 6, 4, 6]\n"
     ]
    }
   ],
   "source": [
    "#23.How can you use the \"filter()\" function with if-else statements to filter elements from a list?\n",
    "def filter_(x):\n",
    "    if x%2==0:\n",
    "        return True\n",
    "    else:\n",
    "        return False\n",
    "my_list=[1,3,2,5,6,3,4,6,7]\n",
    "result=filter(filter_,my_list)\n",
    "print(list(result))\n"
   ]
  },
  {
   "cell_type": "code",
   "execution_count": null,
   "id": "8d1243ee-ece9-44bc-8024-7d8a43bdeab2",
   "metadata": {},
   "outputs": [],
   "source": [
    "#24.Write a Python program to determine if a given number is prime or not using if-else.\n",
    "def prime(x):\n",
    "    x=int(input('enter a number'))\n",
    "    if x%2 ==0 and x%3==0:\n",
    "        print(x,'is prime number')\n",
    "    else:\n",
    "        print(x,'is not a prime number')\n",
    "result=filter(prime,x)\n",
    "print(result)\n",
    "    "
   ]
  },
  {
   "cell_type": "code",
   "execution_count": null,
   "id": "3deb5f13-24dd-4ece-b426-aeca0adcd321",
   "metadata": {},
   "outputs": [],
   "source": [
    "#map\n",
    "#1.\tExplain the purpose of the `map()` function in Python and provide an example of how it can be used to \n",
    "#apply a function to each element of an iterable.\n",
    "'''.The map() function in Python is used to apply a specified function to each item in an iterable \n",
    "(such as a list, tuple, or any other iterable) and returns a new iterable containing the results.'''\n",
    "#syntax is\n",
    "#map(function, iterable)\n",
    "#example\n",
    "def square(x):\n",
    "    return x*x\n",
    "my_list=[1,2,3,4,5]\n",
    "\n",
    "new_list=map(square,my_list)\n",
    "print(list(new_list))\n",
    "\n"
   ]
  },
  {
   "cell_type": "code",
   "execution_count": null,
   "id": "f9881c77-1ecd-4013-b650-e47c8b4ad5ac",
   "metadata": {},
   "outputs": [],
   "source": [
    "#2.\tWrite a Python program that uses the `map()` function to square each element of a list of numbers.\n",
    "def square(x):\n",
    "    return x*x\n",
    "my_list=[1,2,3,4,5]\n",
    "\n",
    "new_list=map(square,my_list)\n",
    "print(list(new_list))\n"
   ]
  },
  {
   "cell_type": "code",
   "execution_count": null,
   "id": "d35d6499-4b0e-4fd2-9436-ad910b06ba04",
   "metadata": {},
   "outputs": [],
   "source": [
    "#3.\tHow does the `map()` function differ from a list comprehension in Python, and when would you choose one\n",
    "#over the other?\n"
   ]
  },
  {
   "cell_type": "code",
   "execution_count": null,
   "id": "20c46341-5352-4e0f-ba99-a0ea98314f99",
   "metadata": {},
   "outputs": [],
   "source": [
    "#4.\tCreate a Python program that uses the `map()` function to convert a list of names to uppercase.\n",
    "def uppercase(x):\n",
    "    return x.upper()\n",
    "x=['vinay','vijay','kishore']\n",
    "y=map(uppercase,x)\n",
    "print(list(y))"
   ]
  },
  {
   "cell_type": "code",
   "execution_count": null,
   "id": "6a1f2c28-2150-4e95-b277-f236d8f22238",
   "metadata": {},
   "outputs": [],
   "source": [
    "#5.\tWrite a Python program that uses the `map()` function to calculate the length of each word in a list of strings\n",
    "def length(x):\n",
    "    return len(x)\n",
    "z=['vinay','vijay','kisore']\n",
    "y=map(length,z)\n",
    "print(list(y))"
   ]
  },
  {
   "cell_type": "code",
   "execution_count": 14,
   "id": "a4c8b192-9d93-4edf-a765-e912efc8f8c8",
   "metadata": {},
   "outputs": [
    {
     "name": "stdout",
     "output_type": "stream",
     "text": [
      "[12, 15, 18]\n"
     ]
    }
   ],
   "source": [
    "#6.\tHow can you use the `map()` function to apply a custom function to elements of multiple \n",
    "#lists simultaneously in Python.\n",
    "def custom_function(x, y, z):\n",
    "    return x + y + z\n",
    "\n",
    "list1 = [1, 2, 3]\n",
    "list2 = [4, 5, 6]\n",
    "list3 = [7, 8, 9]\n",
    "result = map(custom_function, list1, list2, list3)\n",
    "result_list = list(result)\n",
    "print(result_list)"
   ]
  },
  {
   "cell_type": "code",
   "execution_count": null,
   "id": "a27498dc-b8fb-4c0b-8842-30b635113c68",
   "metadata": {},
   "outputs": [],
   "source": [
    "#7.\tCreate a Python program that uses `map()` to convert a list of temperatures from Celsius to Fahrenheit.\n",
    "def celsius_to_farenheit(celsius):\n",
    "    fahrenheit=(celsius*9/5)+32\n",
    "    return fahrenheit\n",
    "celsius=[32,42,52,62]\n",
    "y=map(celsius_to_farenheit,celsius)\n",
    "print(list(y))"
   ]
  },
  {
   "cell_type": "code",
   "execution_count": null,
   "id": "f3f20c53-80b1-4888-a21c-03916d0ef7db",
   "metadata": {},
   "outputs": [],
   "source": [
    "#8.\tWrite a Python program that uses the `map()` function to round each element of a list of floating-point \n",
    "#numbers to the nearest integer.\n",
    "x=[3.14,4.25,66.78,45.6,34.56]\n",
    "y=map(round,x)\n",
    "print(list(y))"
   ]
  },
  {
   "cell_type": "code",
   "execution_count": null,
   "id": "ab9eaded-f438-46a9-92f8-c7de6b2cd089",
   "metadata": {},
   "outputs": [],
   "source": [
    "#reduce\n",
    "'''1.\tWhat is the `reduce()` function in Python, and what module should you import to use it? \n",
    "Provide an example of its basic usage.'''\n",
    "\n",
    "#The reduce() function in Python is used to repeatedly apply a specified function to the elements of an\n",
    "#iterable, accumulating the result. \n",
    "from functools import reduce\n",
    "def add(x, y):\n",
    "    return x + y\n",
    "\n",
    "numbers = [1, 2, 3, 4, 5,6,7]\n",
    "\n",
    "result = reduce(add, numbers)\n",
    "\n",
    "print(result)\n"
   ]
  },
  {
   "cell_type": "code",
   "execution_count": null,
   "id": "695b6f41-9fe7-403f-b2d2-e6a8da7e029f",
   "metadata": {},
   "outputs": [],
   "source": [
    "#2.\tWrite a Python program that uses the `reduce()` function to find the product of all elements in a list.\n",
    "def multiply(x,y):\n",
    "    return x*y\n",
    "numbers=[1,2,3,4,5,6]\n",
    "result=reduce(multiply,numbers)\n",
    "print(result)"
   ]
  },
  {
   "cell_type": "code",
   "execution_count": null,
   "id": "46a94bc2-0973-4361-9aab-e26fdbe98165",
   "metadata": {},
   "outputs": [],
   "source": [
    "#3.\tCreate a Python program that uses `reduce()` to find the maximum element in a list of numbers.\n",
    "\n",
    "\n",
    "def maximum_element(x,y):\n",
    "    return x if x>y  else y\n",
    "my_list=[1,2,3,4,5]\n",
    "result=reduce(maximum_element,my_list)\n",
    "print(result)\n",
    "            "
   ]
  },
  {
   "cell_type": "code",
   "execution_count": null,
   "id": "2bda9d6a-23d0-45a5-9da8-59d00c68014e",
   "metadata": {},
   "outputs": [],
   "source": [
    "#4.\tHow can you use the `reduce()` function to concatenate a list of strings into a single string?\n",
    "def concatenate_list(x,y):\n",
    "    return x+y\n",
    "x=['vinay', 'srikanth', 'yadav','kishore']\n",
    "result=reduce(concatenate_list,x)\n",
    "result    "
   ]
  },
  {
   "cell_type": "code",
   "execution_count": 5,
   "id": "a6ee22c4-564f-4b67-95e2-99082d912623",
   "metadata": {},
   "outputs": [
    {
     "name": "stdin",
     "output_type": "stream",
     "text": [
      "enter a number for factorial 5\n"
     ]
    },
    {
     "name": "stdout",
     "output_type": "stream",
     "text": [
      "120\n"
     ]
    }
   ],
   "source": [
    "#5.\tWrite a Python program that calculates the factorial of a number using the `reduce()` function.\n",
    "from functools import reduce\n",
    "def factorial(x,y):\n",
    "    if x<=0:\n",
    "        return 1\n",
    "    else:\n",
    "        return x*y\n",
    "num=int(input('enter a number for factorial'))\n",
    "number=range(1,num+1)\n",
    "result=reduce(factorial, number)  \n",
    "print(result)"
   ]
  },
  {
   "cell_type": "code",
   "execution_count": 6,
   "id": "c2a3952f-cac8-4ac2-ab34-cb7462a8e283",
   "metadata": {},
   "outputs": [
    {
     "ename": "SyntaxError",
     "evalue": "invalid syntax (1296031830.py, line 3)",
     "output_type": "error",
     "traceback": [
      "\u001b[0;36m  Cell \u001b[0;32mIn[6], line 3\u001b[0;36m\u001b[0m\n\u001b[0;31m    for i\u001b[0m\n\u001b[0m         ^\u001b[0m\n\u001b[0;31mSyntaxError\u001b[0m\u001b[0;31m:\u001b[0m invalid syntax\n"
     ]
    }
   ],
   "source": [
    "#7.\tWrite a Python program that uses the `reduce()` function to find the sum of the digits of a given number\n",
    "def sum_of_digits():\n",
    "    for i in str(x):\n",
    "        "
   ]
  },
  {
   "cell_type": "code",
   "execution_count": null,
   "id": "7d9a1200-97e3-4589-811e-194ae0a9fd61",
   "metadata": {},
   "outputs": [],
   "source": [
    "#filter\n",
    "'''1.\tExplain the purpose of the `filter()` function in Python and provide an example of how it can be\n",
    "used to filter elements from an iterable.'''\n",
    "\n",
    "'''The filter() function in Python is used to filter elements from an iterable (such as a list, tuple, or \n",
    "other iterable objects) based on a specified condition or predicate function.''' \n",
    "def even(x):\n",
    "    return  x%2==0 \n",
    "my_list=[1,2,3,4,5,6,7,8]\n",
    "result=filter(even,my_list)\n",
    "print(list(result))\n"
   ]
  },
  {
   "cell_type": "code",
   "execution_count": null,
   "id": "577b773b-818a-4934-a464-47988879f774",
   "metadata": {},
   "outputs": [],
   "source": [
    "#2.\tWrite a Python program that uses the `filter()` function to select even numbers from a list of integers.\n",
    "def even(x):\n",
    "    return x%2==0\n",
    "my_list=[1,2,3,4,5,6,7,8,9,10,11,12]\n",
    "result=filter(even,my_list)\n",
    "print(list(result))\n"
   ]
  },
  {
   "cell_type": "code",
   "execution_count": null,
   "id": "3c1c75e1-0cda-435f-9a86-8a0bebed75ac",
   "metadata": {},
   "outputs": [],
   "source": [
    "#3.\tCreate a Python program that uses the `filter()` function to select names that start with a \n",
    "#specific letter from a list of strings.\n",
    "def select_name(x):\n",
    "    for i in x:\n",
    "        if x[0]=='s':\n",
    "            return i\n",
    "my_list=['vinay','string','select','srikanth']\n",
    "result=filter(select_name,my_list)\n",
    "print(list(result))\n",
    "    "
   ]
  },
  {
   "cell_type": "code",
   "execution_count": null,
   "id": "37849eec-c512-474c-af93-2810841da1ff",
   "metadata": {},
   "outputs": [],
   "source": [
    "#4.\tWrite a Python program that uses the `filter()` function to select prime numbers from a list of integers.\n",
    "def prime_number(x):\n",
    "    return  x%2!=0 and x%3!=0 \n",
    "num=[1,2,3,4,5,6,7,8,9,10,11,12,13,14,15,16,17,18,19]\n",
    "result=filter(prime_number,num)\n",
    "print(list(result))"
   ]
  },
  {
   "cell_type": "code",
   "execution_count": null,
   "id": "56458cf2-6666-49c6-8caa-0a9b5bb3cb2b",
   "metadata": {},
   "outputs": [],
   "source": []
  },
  {
   "cell_type": "code",
   "execution_count": null,
   "id": "aeb0100a-3cc9-45d0-b29f-a025f0d61cc1",
   "metadata": {},
   "outputs": [],
   "source": [
    "#5.\tHow can you use the `filter()` function to remove None values from a list in Python?\n",
    "def remove(x):\n",
    "    return x is  none\n",
    "        \n",
    "x=[1,none,4,none,5,none,none]\n",
    "y=filter(remove,x)\n",
    "print(list(y))"
   ]
  },
  {
   "cell_type": "code",
   "execution_count": null,
   "id": "29384500-3763-41b5-8985-f505f91a2225",
   "metadata": {},
   "outputs": [],
   "source": [
    "#6.\tCreate a Python program that uses `filter()` to select words longer than a certain length from a \n",
    "#list of strings.\n",
    "def longer_word(x):\n",
    "    return len(x)>=3\n",
    "x=['vinay','jkljk','sas','s']\n",
    "y=filter(longer_word,x)\n",
    "print(list(y))\n",
    "        "
   ]
  },
  {
   "cell_type": "code",
   "execution_count": null,
   "id": "946268b2-4701-41f1-907a-8d09f97d30b4",
   "metadata": {},
   "outputs": [],
   "source": [
    "#7.\tWrite a Python program that uses the `filter()` function to select elements greater than a specified \n",
    "#threshold from a list of values.\n",
    "def threshold(x):\n",
    "    return x>4\n",
    "x=[1,2,3,4,5,6,7,8,9]\n",
    "result=filter(threshold,x)\n",
    "print(list(result))"
   ]
  },
  {
   "cell_type": "code",
   "execution_count": null,
   "id": "ff04da37-0beb-4337-8ae2-b667544135b5",
   "metadata": {},
   "outputs": [],
   "source": [
    "#Recursion\n",
    "#1.\tExplain the concept of recursion in Python. How does it differ from iteration?\n",
    "'''Recursion is a programming technique where a function calls itself to solve a problem'''\n",
    "\n",
    "'''Iteration, on the other hand, is a programming concept where a set of instructions is repeatedly \n",
    "executed in a loop until a specific condition is met. '''\n",
    "\n",
    "'''Recursion and iteration are two different approaches to solving problems in Python, each with its own \n",
    "advantages and trade-offs. The choice between them depends on the problem at hand and the coding style \n",
    "preferences.'''"
   ]
  },
  {
   "cell_type": "code",
   "execution_count": null,
   "id": "4d317362-980d-49ba-a1eb-b4916c633c25",
   "metadata": {},
   "outputs": [],
   "source": [
    "#2.\tWrite a Python program to calculate the factorial of a number using recursion.\n",
    "def fact(n):\n",
    "    if n==0:\n",
    "        return 1\n",
    "    else:\n",
    "        return n*fact(n-1)\n"
   ]
  },
  {
   "cell_type": "code",
   "execution_count": null,
   "id": "4cfadf37-21bc-4083-82a3-e7359d254c00",
   "metadata": {},
   "outputs": [],
   "source": [
    "fact(4)"
   ]
  },
  {
   "cell_type": "code",
   "execution_count": null,
   "id": "c66134e7-f819-4b8c-93f1-96ff20de4d0a",
   "metadata": {},
   "outputs": [],
   "source": [
    "#3.\tCreate a recursive Python function to find the nth Fibonacci number.\n",
    "def fibo(n):\n",
    "    if n==0:\n",
    "        return 0\n",
    "    elif n==1:\n",
    "        return 1\n",
    "    else:\n",
    "        return fibo(n-1)+fibo(n-2)   \n",
    "    "
   ]
  },
  {
   "cell_type": "code",
   "execution_count": null,
   "id": "be63f3f5-eb59-4eac-a2a2-64b9df5e3548",
   "metadata": {},
   "outputs": [],
   "source": [
    "fibo(6)\n"
   ]
  },
  {
   "cell_type": "code",
   "execution_count": 1,
   "id": "bd7cb1ab-0660-418b-abf3-fbc23c162ce0",
   "metadata": {},
   "outputs": [
    {
     "data": {
      "text/plain": [
       "21"
      ]
     },
     "execution_count": 1,
     "metadata": {},
     "output_type": "execute_result"
    }
   ],
   "source": [
    "#4.\tWrite a recursive Python function to calculate the sum of all elements in a list.\n",
    "def add(n):\n",
    "    if not n:\n",
    "        return 0\n",
    "    else:\n",
    "        return n[0]+add(n[1:])\n",
    "num=[1,2,3,4,5,6]\n",
    "add(num)"
   ]
  },
  {
   "cell_type": "code",
   "execution_count": null,
   "id": "467f460f-a220-4431-b2fa-044ace8fd89f",
   "metadata": {},
   "outputs": [],
   "source": [
    "#5.\tHow can you prevent a recursive function from running indefinitely, causing a stack overflow error?\n",
    "'''To prevent a recursive function from running indefinitely and causing a stack overflow error, you can \n",
    "implement \"proper termination\" conditions and ensure that the function progresses toward those termination \n",
    "conditions in each recursive call."
   ]
  },
  {
   "cell_type": "code",
   "execution_count": 6,
   "id": "9ec2711c-b8f5-4dbc-852b-034c972fd99a",
   "metadata": {},
   "outputs": [
    {
     "data": {
      "text/plain": [
       "'gnirts a esrever'"
      ]
     },
     "execution_count": 6,
     "metadata": {},
     "output_type": "execute_result"
    }
   ],
   "source": [
    "#7.\tWrite a recursive Python function to reverse a string.\n",
    "def reverse_string(x):\n",
    "    if len(x)<=1:\n",
    "        return x\n",
    "    else:\n",
    "        return reverse_string(x[1:])+x[0]\n",
    "reverse_string('reverse a string')"
   ]
  },
  {
   "cell_type": "code",
   "execution_count": 21,
   "id": "ba8c2695-2d68-4b40-9cb1-bc417153504a",
   "metadata": {},
   "outputs": [
    {
     "data": {
      "text/plain": [
       "27"
      ]
     },
     "execution_count": 21,
     "metadata": {},
     "output_type": "execute_result"
    }
   ],
   "source": [
    "#8.\tCreate a recursive Python function to calculate the power of a number (x^n).\n",
    "def power_fun(n , k) :\n",
    "    if k == 0 :\n",
    "        return 1\n",
    "    else :\n",
    "        return n * power_fun(n ,k-1)\n",
    "power_fun(3,3)\n"
   ]
  },
  {
   "cell_type": "code",
   "execution_count": 22,
   "id": "d8ceb4b6-68bb-4e49-a14c-ebbad00a60b5",
   "metadata": {},
   "outputs": [
    {
     "data": {
      "text/plain": [
       "True"
      ]
     },
     "execution_count": 22,
     "metadata": {},
     "output_type": "execute_result"
    }
   ],
   "source": [
    "#10.Write a recursive Python function to check if a string is a palindrome.\n"
   ]
  },
  {
   "cell_type": "code",
   "execution_count": null,
   "id": "4d617486-52de-4a69-a16d-6e65e559fdd0",
   "metadata": {},
   "outputs": [],
   "source": [
    "#Basics of Functions:\n",
    "#1.\tWhat is a function in Python, and why is it used\n",
    "#function is a block of reusable code that performs a specific task n number of times.\n"
   ]
  },
  {
   "cell_type": "code",
   "execution_count": 1,
   "id": "643bb59e-0055-4759-8e0c-882ebcdce8c1",
   "metadata": {},
   "outputs": [],
   "source": [
    "#2.\tHow do you define a function in Python? Provide an example\n",
    "'''  function in python is defined by 'def' followed by fucntion name and follwed by parenthesis and colon'''\n",
    "def add(a,b):\n",
    "    return a+b\n",
    "    \n"
   ]
  },
  {
   "cell_type": "code",
   "execution_count": 2,
   "id": "5675a6fc-3a95-445a-b348-ba757053230e",
   "metadata": {},
   "outputs": [
    {
     "data": {
      "text/plain": [
       "\"A function definition is where you define the structure and behavior of a function\\nexample:\\n\\n'def add(a,b):\\n    return a+b'\\n    \\nFunction call:A function call is where you actually invoke or execute a previously \\ndefined function with specific arguments or parameters\\nexample : add(3,5)\""
      ]
     },
     "execution_count": 2,
     "metadata": {},
     "output_type": "execute_result"
    }
   ],
   "source": [
    "#3.\tExplain the difference between a function definition and a function call.\n",
    "'''A function definition is where you define the structure and behavior of a function\n",
    "example:\n",
    "\n",
    "'def add(a,b):\n",
    "    return a+b'\n",
    "    \n",
    "Function call:A function call is where you actually invoke or execute a previously \n",
    "defined function with specific arguments or parameters\n",
    "example : add(3,5)''' \n"
   ]
  },
  {
   "cell_type": "code",
   "execution_count": 4,
   "id": "5140771b-a7ee-449e-8325-b3eadb88968f",
   "metadata": {},
   "outputs": [
    {
     "data": {
      "text/plain": [
       "9"
      ]
     },
     "execution_count": 4,
     "metadata": {},
     "output_type": "execute_result"
    }
   ],
   "source": [
    "#4.\tWrite a Python program that defines a function to calculate the sum of two numbers and then calls the function.\n",
    "def add(a,b):\n",
    "    return a+b\n",
    "add(4,5)"
   ]
  },
  {
   "cell_type": "code",
   "execution_count": null,
   "id": "634c0746-d2e2-4675-b9e5-ba3adfd81027",
   "metadata": {},
   "outputs": [],
   "source": [
    "#5.\tWhat is a function signature, and what information does it typically include?\n",
    "'''A function signature typically includes the following information\n",
    "Function Name, Parameters, Return Type'''"
   ]
  },
  {
   "cell_type": "code",
   "execution_count": 13,
   "id": "bd36d982-7ac4-415e-af29-d4c4c9f8fc0e",
   "metadata": {},
   "outputs": [
    {
     "data": {
      "text/plain": [
       "15"
      ]
     },
     "execution_count": 13,
     "metadata": {},
     "output_type": "execute_result"
    }
   ],
   "source": [
    "#6.\tCreate a Python function that takes two arguments and returns their product.\n",
    "def multiply(a,b):\n",
    "    return a*b\n",
    "multiply(5,3)"
   ]
  },
  {
   "cell_type": "code",
   "execution_count": 6,
   "id": "f82cf734-5510-4adb-b70e-2fa0f11b810e",
   "metadata": {},
   "outputs": [],
   "source": [
    "\n",
    "#Function Parameters and Arguments:\n",
    "\n",
    "#1.\tExplain the concepts of formal parameters and actual arguments in Python functions.\n",
    "'''In Python functions, the concepts of formal parameters and actual arguments are fundamental to how\n",
    "functions accept and operate on data.\n",
    "\n",
    "Formal Parameters:\n",
    "                Formal parameters are variables or names defined in the function's parameter list. They serve\n",
    "as placeholders for the values that will be passed into the function when it is called.'''\n",
    "\n",
    "def add_numbers(x, y):  # x and y are formal parameters\n",
    "    result = x + y\n",
    "    return result\n",
    "'''Actual Arguments:\n",
    "                    Actual arguments, also known as arguments or function arguments, are the real values or\n",
    "expressions that are provided when calling a function. These values are passed to the function to be used \n",
    "as input.Actual arguments are passed to the function when you invoke it, and they correspond to the formal\n",
    "parameters in order and quantity.'''\n",
    "result = add_numbers(5, 3)  # 5 and 3 are actual arguments\n"
   ]
  },
  {
   "cell_type": "code",
   "execution_count": 5,
   "id": "5f5cddd8-4393-4b9b-ac7c-e0263c9483b8",
   "metadata": {},
   "outputs": [
    {
     "name": "stdout",
     "output_type": "stream",
     "text": [
      "welcome vinay\n"
     ]
    }
   ],
   "source": [
    "#2.\tWrite a Python program that defines a function with default argument values.\n",
    "def function(x,y='welcome'):\n",
    "  \n",
    "    print('{1} {0}'.format(x,y))\n",
    "function('vinay')\n",
    "    "
   ]
  },
  {
   "cell_type": "code",
   "execution_count": 8,
   "id": "12a3e5f0-fbe0-4560-8ca8-490e9eb16e41",
   "metadata": {},
   "outputs": [
    {
     "name": "stdout",
     "output_type": "stream",
     "text": [
      "vinay your age is 25\n"
     ]
    }
   ],
   "source": [
    "#3.\tHow do you use keyword arguments in Python function calls? Provide an example.\n",
    "'''In Python, you can use keyword arguments to pass arguments to a function by specifying the argument's name\n",
    "along with its value when calling the function.'''\n",
    "\n",
    "def function(name,age):\n",
    "    print('{0} your age is {1}'.format(name, age))\n",
    "function(name='vinay', age=25)"
   ]
  },
  {
   "cell_type": "code",
   "execution_count": 11,
   "id": "8e8cc82a-191b-4d4a-9314-eb683b6dae36",
   "metadata": {},
   "outputs": [
    {
     "data": {
      "text/plain": [
       "36"
      ]
     },
     "execution_count": 11,
     "metadata": {},
     "output_type": "execute_result"
    }
   ],
   "source": [
    "#4.\tCreate a Python function that accepts a variable number of arguments and calculates their sum.\n",
    "def func(*arg):\n",
    "    sum=0\n",
    "    for i in arg:\n",
    "        sum=i+sum\n",
    "    return sum\n",
    "func(1,2,3,4,5,6,7,8)"
   ]
  },
  {
   "cell_type": "code",
   "execution_count": 14,
   "id": "52a0eda7-e4cb-4bf8-84d3-bae59daba336",
   "metadata": {},
   "outputs": [
    {
     "data": {
      "text/plain": [
       "'*args and **kwargs are  used in function parameter lists to allow a function to accept a variable number \\nof arguments, both positional and keyword arguments '"
      ]
     },
     "execution_count": 14,
     "metadata": {},
     "output_type": "execute_result"
    }
   ],
   "source": [
    "#5.\tWhat is the purpose of the `*args` and `**kwargs` syntax in function parameter lists?\n",
    "'''*args and **kwargs are  used in function parameter lists to allow a function to accept a variable number \n",
    "of arguments, both positional and keyword arguments '''\n"
   ]
  },
  {
   "cell_type": "code",
   "execution_count": null,
   "id": "a8386d54-a38c-40ff-b38b-4134374bf72f",
   "metadata": {},
   "outputs": [],
   "source": [
    "#Return Values and Scoping:\n",
    "#1.\tDescribe the role of the `return` statement in Python functions and provide examples.\n",
    "'''In Python, the return statement is used to specify the value or values that a function should produce \n",
    "as its result or output\n",
    " The return statement serves several important roles in Python functions:\n",
    "1.Returning Values: The primary role of the return statement is to return a value from a function. \n",
    "2.Exiting the Function: The return statement also acts as an exit point for a function.\n",
    "3.Returning Multiple Values: You can use the return statement to return multiple values by separating them \n",
    "with commas.\n",
    "4.No Return (Implicit Return of None):If a function doesn't contain a return statement or contains a return\n",
    "statement without any value, it implicitly returns None'''"
   ]
  },
  {
   "cell_type": "code",
   "execution_count": 1,
   "id": "9c9f1c92-123a-4f22-a5bd-7025a89045ee",
   "metadata": {},
   "outputs": [
    {
     "name": "stdout",
     "output_type": "stream",
     "text": [
      "10\n",
      "20\n",
      "20\n"
     ]
    }
   ],
   "source": [
    "#2Explain the concept of variable scope in Python, including local and global variables.\n",
    "\n",
    "'''In Python, variable scope refers to the region of a program where a particular variable is accessible or \n",
    "can be referenced.\n",
    "Python has two primary types of variable scope: local and global.\n",
    "Local Variables:\n",
    "\n",
    "Local variables are declared and defined within a specific block of code, typically within a function or method.\n",
    "They have a local scope, which means they are only accessible within the block of code where they are defined.'''\n",
    "\n",
    "def example_function():\n",
    "    x = 10  # x is a local variable\n",
    "    print(x)  # Accessible within this function\n",
    "\n",
    "example_function()\n",
    "'''Global Variables:\n",
    "\n",
    "Global variables are declared at the top level of a script or module and are not nested within any specific\n",
    "block of code.They have a global scope, which means they can be accessed from any part of the code, including \n",
    "functions, classes, and modules.'''\n",
    "y = 20  # y is a global variable\n",
    "\n",
    "def another_function():\n",
    "    print(y)  # Accessible within this function\n",
    "\n",
    "another_function()\n",
    "print(y)  # Accessible outside the function as well\n",
    "\n"
   ]
  },
  {
   "cell_type": "code",
   "execution_count": 3,
   "id": "e76a978c-5e68-4253-b750-4cf6c9d55ad9",
   "metadata": {},
   "outputs": [
    {
     "name": "stdout",
     "output_type": "stream",
     "text": [
      "20\n",
      "20\n"
     ]
    }
   ],
   "source": [
    "#3.\tWrite a Python program that demonstrates the use of global variables within functions.\n",
    "y = 20  # y is a global variable\n",
    "\n",
    "def another_function():\n",
    "    print(y)  # Accessible within this function\n",
    "\n",
    "another_function()\n",
    "print(y)  # Accessible outside the function as well\n"
   ]
  },
  {
   "cell_type": "code",
   "execution_count": 10,
   "id": "e9449703-b5bd-4e32-96fd-37fcb8ba7311",
   "metadata": {},
   "outputs": [
    {
     "data": {
      "text/plain": [
       "120"
      ]
     },
     "execution_count": 10,
     "metadata": {},
     "output_type": "execute_result"
    }
   ],
   "source": [
    "#4.\tCreate a Python function that calculates the factorial of a number and returns it.\n",
    "def factorial(n):\n",
    "    if n==0:\n",
    "        return 1\n",
    "    else:\n",
    "        return n*factorial(n-1)\n",
    "factorial(5)"
   ]
  },
  {
   "cell_type": "code",
   "execution_count": 17,
   "id": "709e1feb-2609-4430-b6e5-8e777b5a600f",
   "metadata": {},
   "outputs": [
    {
     "name": "stdout",
     "output_type": "stream",
     "text": [
      "10\n"
     ]
    }
   ],
   "source": [
    "#5.\tHow can you access variables defined outside a function from within the function?\n",
    "'''In Python, you can access variables defined outside a function from within the function by using \n",
    "the global keyword'''\n",
    "x=10\n",
    "def func():\n",
    "    global x\n",
    "    print(x)\n",
    "func()"
   ]
  },
  {
   "cell_type": "code",
   "execution_count": 18,
   "id": "0c36fa2a-f675-43bf-8499-519d5fddd1e6",
   "metadata": {},
   "outputs": [],
   "source": [
    "#Lambda Functions and Higher-Order Functions:\n",
    "#1.\tWhat are lambda functions in Python, and when are they typically used?\n",
    "'''Lambda functions in Python are small, anonymous (unnamed) functions defined using the lambda keyword.\n",
    "They are also known as \"lambda expressions.\" Lambda functions are typically used for short, simple operations\n",
    "that can be defined in a single line of code.'''\n",
    "syntax : lambda arguments: expression\n",
    "numbers = [1, 2, 3, 4, 5, 6]\n",
    "even_numbers = list(filter(lambda x: x % 2 == 0, numbers))\n",
    "\n"
   ]
  },
  {
   "cell_type": "code",
   "execution_count": 19,
   "id": "6e50173c-ffd9-4afb-aac1-61c0949cc640",
   "metadata": {},
   "outputs": [
    {
     "data": {
      "text/plain": [
       "[(3, 2), (1, 5), (2, 8)]"
      ]
     },
     "execution_count": 19,
     "metadata": {},
     "output_type": "execute_result"
    }
   ],
   "source": [
    "#2.\tWrite a Python program that uses lambda functions to sort a list of tuples based on the second element.\\\n",
    "data = [(1, 5), (3, 2), (2, 8)]\n",
    "sorted_data = sorted(data, key=lambda x: x[1])\n",
    "sorted_data"
   ]
  },
  {
   "cell_type": "code",
   "execution_count": 20,
   "id": "73149af5-925e-4fbf-876c-aac0743dd708",
   "metadata": {},
   "outputs": [
    {
     "name": "stdout",
     "output_type": "stream",
     "text": [
      "Addition: 15\n",
      "Subtraction: 5\n",
      "Multiplication: 50\n",
      "Division: 2.0\n"
     ]
    }
   ],
   "source": [
    "#3.\tExplain the concept of higher-order functions in Python, and provide an example.\n",
    "\n",
    "''' Higher-order function example: a function that takes another function as an argument'''\n",
    "\n",
    "# Higher-order function\n",
    "def apply_operation(operation, x, y):\n",
    "    return operation(x, y)\n",
    "\n",
    "# Functions to pass as arguments\n",
    "def add(x, y):\n",
    "    return x + y\n",
    "\n",
    "def subtract(x, y):\n",
    "    return x - y\n",
    "\n",
    "def multiply(x, y):\n",
    "    return x * y\n",
    "\n",
    "def divide(x, y):\n",
    "    if y == 0:\n",
    "        return \"Cannot divide by zero\"\n",
    "    return x / y\n",
    "\n",
    "# Using the higher-order function with different operations\n",
    "result1 = apply_operation(add, 10, 5)\n",
    "result2 = apply_operation(subtract, 10, 5)\n",
    "result3 = apply_operation(multiply, 10, 5)\n",
    "result4 = apply_operation(divide, 10, 5)\n",
    "\n",
    "print(\"Addition:\", result1)      \n",
    "print(\"Subtraction:\", result2)   \n",
    "print(\"Multiplication:\", result3) \n",
    "print(\"Division:\", result4)      \n"
   ]
  },
  {
   "cell_type": "code",
   "execution_count": 24,
   "id": "ac96aa3e-4b62-46b4-93d8-4ac7dfaca2e4",
   "metadata": {},
   "outputs": [
    {
     "data": {
      "text/plain": [
       "[1]"
      ]
     },
     "execution_count": 24,
     "metadata": {},
     "output_type": "execute_result"
    }
   ],
   "source": [
    "#4.\tCreate a Python function that takes a list of numbers and a function as arguments, applying the function \n",
    "#to each element in the list.\n",
    "def function(func,numbers):\n",
    "    result=[]\n",
    "    for i in numbers:\n",
    "        result.append(func(i))\n",
    "        return result\n",
    "def cube(x):\n",
    "    return x**3\n",
    "numbers=[1,2,3,4,5,6]\n",
    "function(cube,numbers)"
   ]
  },
  {
   "cell_type": "code",
   "execution_count": 23,
   "id": "ad867189-8251-49f4-9639-08ae7dc861e5",
   "metadata": {},
   "outputs": [
    {
     "data": {
      "text/plain": [
       "'3.min(): The min() function is the counterpart of max(). It is used to find the minimum (smallest) value \\namong the elements in an iterable, and it works similarly to max()'"
      ]
     },
     "execution_count": 23,
     "metadata": {},
     "output_type": "execute_result"
    }
   ],
   "source": [
    "#Built-in Functions:\n",
    "#1.\tDescribe the role of built-in functions like `len()`, `max()`, and `min()` in Python.\n",
    "'''1.len(): The len() function is used to determine the length or the number of elements in an iterable, \n",
    "such as a string, list, tuple, dictionary, or set. It returns an integer representing the number of items\n",
    "in the iterable.'''\n",
    "my_list = [1, 2, 3, 4, 5]\n",
    "length = len(my_list)  # length will be 5\n",
    "'''2.max(): The max() function is used to find the maximum (largest) value among the elements in an iterable.\n",
    "It can be applied to a variety of data types, including numbers, strings, and even custom objects.'''\n",
    "numbers = [3, 1, 4, 1, 5, 9, 2, 6, 5, 3, 5]\n",
    "max_value = max(numbers)  # max_value will be 9\n",
    "\n",
    "'''3.min(): The min() function is the counterpart of max(). It is used to find the minimum (smallest) value \n",
    "among the elements in an iterable, and it works similarly to max()'''\n"
   ]
  },
  {
   "cell_type": "code",
   "execution_count": 39,
   "id": "fbfb9669-9fe5-45d3-af28-4f1907609cb3",
   "metadata": {},
   "outputs": [
    {
     "name": "stdout",
     "output_type": "stream",
     "text": [
      "[1, 4, 9, 16, 25, 36]\n"
     ]
    }
   ],
   "source": [
    "#2.\tWrite a Python program that uses the `map()` function to apply a function to each element of a list.\n",
    "def square(x):\n",
    "    return x**2\n",
    "number=[1,2,3,4]\n",
    "result=map(square,numbers)\n",
    "print(list(result))"
   ]
  },
  {
   "cell_type": "code",
   "execution_count": 40,
   "id": "33271496-08ce-466e-9881-34548e9a94ac",
   "metadata": {},
   "outputs": [
    {
     "name": "stdout",
     "output_type": "stream",
     "text": [
      "[2, 4, 6, 8, 10]\n"
     ]
    }
   ],
   "source": [
    "#3.\tHow does the `filter()` function work in Python, and when would you use it?\n",
    "'''The filter() function in Python is used to filter elements from an iterable (e.g., a list, tuple, or \n",
    "other iterable) based on a specified condition or function.'''\n",
    "\n",
    "def is_even(x):\n",
    "    return x % 2 == 0\n",
    "numbers = [1, 2, 3, 4, 5, 6, 7, 8, 9, 10]\n",
    "\n",
    "filtered_numbers = filter(is_even, numbers)\n",
    "\n",
    "even_numbers = list(filtered_numbers)\n",
    "\n",
    "print(even_numbers) \n"
   ]
  },
  {
   "cell_type": "code",
   "execution_count": 43,
   "id": "bc1745f5-b86b-43bb-a3a0-bb97016bae92",
   "metadata": {},
   "outputs": [
    {
     "name": "stdout",
     "output_type": "stream",
     "text": [
      "40320\n"
     ]
    }
   ],
   "source": [
    "#4.\tCreate a Python program that uses the `reduce()` function to find the product of all elements in a list.\n",
    "from functools import reduce\n",
    "def product(x,y):\n",
    "    return x*y\n",
    "number=[1,2,3,4,5,6,7,8]\n",
    "result=reduce(product,number)\n",
    "print((result))\n",
    "    "
   ]
  },
  {
   "cell_type": "code",
   "execution_count": null,
   "id": "87143c15-e469-4a49-b586-9b18053fc46e",
   "metadata": {},
   "outputs": [],
   "source": [
    "#Function Documentation and Best Practices:\n",
    "#1.\tExplain the purpose of docstrings in Python functions and how to write them.\n",
    "'''Documentation: Docstrings serve as documentation that describes the purpose and functionality of a function\n",
    "or other code entity. They help developers, including yourself and others, understand how to use the code \n",
    "correctly.'''\n",
    "def add(x, y):\n",
    "    \"\"\"\n",
    "    This function adds two numbers.  \n",
    "\n",
    "    Parameters:\n",
    "    x (int): The first number.\n",
    "    y (int): The second number.\n",
    "\n",
    "    Returns:\n",
    "    int: The sum of x and y.\n",
    "    \"\"\"\n",
    "    return x + y\n",
    "#The docstring is enclosed in triple quotes (either single or double)."
   ]
  },
  {
   "cell_type": "code",
   "execution_count": null,
   "id": "e005ce54-8ad4-448e-bc5c-e6937506d377",
   "metadata": {},
   "outputs": [],
   "source": [
    "#2.\tDescribe some best practices for naming functions and variables in Python, including naming conventions\n",
    "#and guidelines.\n",
    "'''Naming functions and variables in Python is important for code readability and maintainability. \n",
    "1.Use Descriptive Names:\n",
    "\n",
    "Choose names that clearly describe the purpose or functionality of the function or variable. \n",
    "This makes the code more self-explanatory.\n",
    "\n",
    "2.Follow PEP 8:\n",
    "PEP 8 is the official Python style guide, and it provides recommendations for naming conventions.\n",
    "Function names should be lowercase with words separated by underscores example(snake_case).\n",
    "\n",
    "3.Use Verb-Noun Pairing for Functions:\n",
    "\n",
    "Function names should often start with a verb that describes the action the function performs,\n",
    "followed by a noun or descriptive phrase. For example: calculate_total, parse_data.\n",
    "This makes it clear that the identifier is a function and provides a hint about its purpose.\n",
    "\n",
    "4.Be Consistent:\n",
    "\n",
    "Maintain consistency in naming conventions throughout your codebase. If you use a particular style, stick \n",
    "to it.\n",
    "\n",
    "5.Avoid reserved keywords\n",
    "Avoid using reserved keywords as variable names\n",
    "\n",
    "6. Don't use abbreviations\n",
    "Avoid using abbreviations in your variable names. Abbreviations can be confusing and may not be \n",
    "understandable to other developers. Instead, use full and descriptive names.\n",
    "\n",
    "7.. Be mindful of variable scope\n",
    "Be mindful of the scope of your variables. Variables should be defined in the smallest possible scope to \n",
    "avoid naming conflicts and improve readability"
   ]
  }
 ],
 "metadata": {
  "kernelspec": {
   "display_name": "Python 3 (ipykernel)",
   "language": "python",
   "name": "python3"
  },
  "language_info": {
   "codemirror_mode": {
    "name": "ipython",
    "version": 3
   },
   "file_extension": ".py",
   "mimetype": "text/x-python",
   "name": "python",
   "nbconvert_exporter": "python",
   "pygments_lexer": "ipython3",
   "version": "3.10.8"
  }
 },
 "nbformat": 4,
 "nbformat_minor": 5
}
